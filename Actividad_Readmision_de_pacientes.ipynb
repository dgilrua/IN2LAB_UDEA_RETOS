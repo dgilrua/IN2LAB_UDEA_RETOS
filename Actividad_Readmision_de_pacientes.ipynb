{
  "cells": [
    {
      "cell_type": "markdown",
      "metadata": {
        "id": "4ggVbCdj1h1z"
      },
      "source": [
        "# Reto #1 - Preprocesamiento de bases de datos\n",
        "\n"
      ]
    },
    {
      "cell_type": "markdown",
      "metadata": {
        "id": "oFXFezRXWG-L"
      },
      "source": [
        "## Importación de librerías"
      ]
    },
    {
      "cell_type": "code",
      "execution_count": 1,
      "metadata": {
        "id": "D9gKCCfWredz"
      },
      "outputs": [],
      "source": [
        "import pandas as pd\n",
        "import numpy as np\n",
        "import os\n",
        "import warnings\n",
        "warnings.filterwarnings('ignore')"
      ]
    },
    {
      "cell_type": "markdown",
      "metadata": {
        "id": "8M9l2jibWNyU"
      },
      "source": [
        "## Cargar base de datos"
      ]
    },
    {
      "cell_type": "code",
      "execution_count": 2,
      "metadata": {
        "id": "eQmRP3h-rO2C"
      },
      "outputs": [],
      "source": [
        "#Se carga la base de datos con pandas\n",
        "df = pd.read_csv('readmision.csv')"
      ]
    },
    {
      "cell_type": "code",
      "execution_count": 3,
      "metadata": {},
      "outputs": [
        {
          "data": {
            "text/html": [
              "<div>\n",
              "<style scoped>\n",
              "    .dataframe tbody tr th:only-of-type {\n",
              "        vertical-align: middle;\n",
              "    }\n",
              "\n",
              "    .dataframe tbody tr th {\n",
              "        vertical-align: top;\n",
              "    }\n",
              "\n",
              "    .dataframe thead th {\n",
              "        text-align: right;\n",
              "    }\n",
              "</style>\n",
              "<table border=\"1\" class=\"dataframe\">\n",
              "  <thead>\n",
              "    <tr style=\"text-align: right;\">\n",
              "      <th></th>\n",
              "      <th>paciente</th>\n",
              "      <th>episodio</th>\n",
              "      <th>fecha_ingreso</th>\n",
              "      <th>fecha_salida</th>\n",
              "      <th>antibioticos</th>\n",
              "      <th>ambulatorio</th>\n",
              "      <th>hospitalizado</th>\n",
              "      <th>urgencia</th>\n",
              "    </tr>\n",
              "  </thead>\n",
              "  <tbody>\n",
              "    <tr>\n",
              "      <th>0</th>\n",
              "      <td>0</td>\n",
              "      <td>3408910</td>\n",
              "      <td>2017-04-02 00:00:00.000</td>\n",
              "      <td>2017-04-05 11:51:04.000</td>\n",
              "      <td>0</td>\n",
              "      <td>0</td>\n",
              "      <td>1</td>\n",
              "      <td>0</td>\n",
              "    </tr>\n",
              "    <tr>\n",
              "      <th>1</th>\n",
              "      <td>7</td>\n",
              "      <td>3488486</td>\n",
              "      <td>2017-07-07 00:00:00.000</td>\n",
              "      <td>2017-07-08 05:19:09.000</td>\n",
              "      <td>0</td>\n",
              "      <td>0</td>\n",
              "      <td>0</td>\n",
              "      <td>0</td>\n",
              "    </tr>\n",
              "    <tr>\n",
              "      <th>2</th>\n",
              "      <td>12</td>\n",
              "      <td>3433964</td>\n",
              "      <td>2017-05-11 00:00:00.000</td>\n",
              "      <td>2017-05-17 10:55:02.000</td>\n",
              "      <td>0</td>\n",
              "      <td>0</td>\n",
              "      <td>1</td>\n",
              "      <td>0</td>\n",
              "    </tr>\n",
              "    <tr>\n",
              "      <th>3</th>\n",
              "      <td>12</td>\n",
              "      <td>3720631</td>\n",
              "      <td>2017-12-04 00:00:00.000</td>\n",
              "      <td>2017-12-07 11:06:49.000</td>\n",
              "      <td>0</td>\n",
              "      <td>0</td>\n",
              "      <td>1</td>\n",
              "      <td>0</td>\n",
              "    </tr>\n",
              "    <tr>\n",
              "      <th>4</th>\n",
              "      <td>18</td>\n",
              "      <td>3400815</td>\n",
              "      <td>2017-03-22 00:00:00.000</td>\n",
              "      <td>2017-04-03 12:41:04.000</td>\n",
              "      <td>1</td>\n",
              "      <td>0</td>\n",
              "      <td>1</td>\n",
              "      <td>0</td>\n",
              "    </tr>\n",
              "  </tbody>\n",
              "</table>\n",
              "</div>"
            ],
            "text/plain": [
              "   paciente  episodio            fecha_ingreso             fecha_salida  \\\n",
              "0         0   3408910  2017-04-02 00:00:00.000  2017-04-05 11:51:04.000   \n",
              "1         7   3488486  2017-07-07 00:00:00.000  2017-07-08 05:19:09.000   \n",
              "2        12   3433964  2017-05-11 00:00:00.000  2017-05-17 10:55:02.000   \n",
              "3        12   3720631  2017-12-04 00:00:00.000  2017-12-07 11:06:49.000   \n",
              "4        18   3400815  2017-03-22 00:00:00.000  2017-04-03 12:41:04.000   \n",
              "\n",
              "   antibioticos  ambulatorio  hospitalizado  urgencia  \n",
              "0             0            0              1         0  \n",
              "1             0            0              0         0  \n",
              "2             0            0              1         0  \n",
              "3             0            0              1         0  \n",
              "4             1            0              1         0  "
            ]
          },
          "execution_count": 3,
          "metadata": {},
          "output_type": "execute_result"
        }
      ],
      "source": [
        "df.head()"
      ]
    },
    {
      "cell_type": "markdown",
      "metadata": {
        "id": "t3j53KBtxWmf"
      },
      "source": [
        "# **Descripción de la base de datos**\n",
        "La base de datos consta de 161032 registros, donde cada registro representa un episodio, el cuál tendrá asociado un paciente, una fecha de ingreso, una fecha de salida, una variable que nos indica si en ese episodio se usarón antibióticos, y los servicios que se implementarón en este episodio (ambulatorio, hospitalización y/o urgencia).\n",
        "\n",
        "\n",
        "| Variable          | Descripción                                                                                             |\n",
        "|------------------|---------------------------------------------------------------------------------------------------------|\n",
        "| Paciente         | Indicador único del paciente (este paciente puede aparecer varias veces en la base de datos, lo cuál indica que ingreso en reiteradas ocasiones). |\n",
        "| Episodio         | Indicador único de episodio, este índice NO se repite en la base de datos.                              |\n",
        "| Fecha_ingreso    | Fecha en la cuál ingresa el paciente asociado al episodio al centro médico.                              |\n",
        "| Fecha_salida     | Fecha en la cuál el paciente asociado al episodio sale del centro médico.                                |\n",
        "| Antibióticos     | Variable que indica si al paciente le suministraron antibióticos durante ese episodio.                    |\n",
        "| Ambulatorio      | Variable que indica si al paciente fue atendido fuera de un entorno hospitalario o de internamiento prolongado durante el episodio. |\n",
        "| Urgencia         | Variable que indica si el paciente fue atendido en un entorno de urgencias o emergencias durante el episodio clínico. |\n",
        "\n"
      ]
    },
    {
      "cell_type": "markdown",
      "metadata": {
        "id": "AR2HJxeZWV7s"
      },
      "source": [
        "## **Problema 1.1 - Cantidad de antibioticos el último año**\n",
        "Determinar la frecuencia de administración de antibióticos a lo largo de un año para un paciente, utilizando los datos disponibles.\n",
        "\n",
        "Se proporciona un ejemplo con la información del paciente 10, quien recibió antibióticos en tres visitas distintas al centro médico.\n",
        "\n",
        "Debes crear la columna **\"antibiotico_ultimo_año\"**, la cual mostrará la cantidad de veces que el paciente ha consumido antibióticos durante el último año en relación con el episodio bajo análisis.\n",
        "\n",
        "![imagen.png](data:image/png;base64,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)"
      ]
    },
    {
      "cell_type": "code",
      "execution_count": null,
      "metadata": {
        "id": "6NnpIYL1srDp"
      },
      "outputs": [],
      "source": [
        "##Codigo problema 1.1\n",
        "##   ..."
      ]
    },
    {
      "cell_type": "markdown",
      "metadata": {
        "id": "KTWTE6u7uLse"
      },
      "source": [
        "## **Problema 1.2 - Cantidad de servicios ambulatorios por paciente en el transcurso de un año**\n",
        "\n",
        "De forma análoga al ejercicio anterior, se requiere determinar la frecuencia de los servicios ambulatorios que el paciente recibió durante el transcurso de un año, utilizando la información disponible. Para este caso en lugar de la variable **'antibiotico'** deberá usar la variable **'ambulatorio'**"
      ]
    },
    {
      "cell_type": "code",
      "execution_count": null,
      "metadata": {
        "id": "aL4qGJrNs1Yt"
      },
      "outputs": [],
      "source": [
        "## Código Problema 1.2\n",
        "#     ..."
      ]
    },
    {
      "cell_type": "markdown",
      "metadata": {
        "id": "AcqoTOjYvQnA"
      },
      "source": [
        "## **Problema 1.3 - Cantidad de servicios de hospitalización por paciente en el transcurso de un año**\n",
        "\n",
        "Igual que en los ejercicios previos, se debe calcular la cantidad de visitas a servicios de hospitalización que el paciente realizó durante un año, usando la variable **'hospitalizado'**"
      ]
    },
    {
      "cell_type": "code",
      "execution_count": null,
      "metadata": {
        "id": "V8dniV_YvKm7"
      },
      "outputs": [],
      "source": [
        "## Código Problema 1.3\n",
        "#    ..."
      ]
    },
    {
      "cell_type": "markdown",
      "metadata": {
        "id": "JPd0mwC_vvab"
      },
      "source": [
        "## **Problema 1.4 - Cantidad de servicios de urgencia por paciente durante el último año**\n",
        "\n",
        "Finalmente, siguiendo el mismo enfoque que los ejercicios anteriores, es necesario determinar la frecuencia de visitas a urgencia que el paciente tuvo a lo largo de un año. Usando la variable **'urgencia'**"
      ]
    },
    {
      "cell_type": "code",
      "execution_count": null,
      "metadata": {
        "id": "BAZuiCKUxJkq"
      },
      "outputs": [],
      "source": [
        "## Código Problema 1.4\n",
        "# ..."
      ]
    }
  ],
  "metadata": {
    "colab": {
      "provenance": [],
      "toc_visible": true
    },
    "kernelspec": {
      "display_name": "Python 3",
      "name": "python3"
    },
    "language_info": {
      "codemirror_mode": {
        "name": "ipython",
        "version": 3
      },
      "file_extension": ".py",
      "mimetype": "text/x-python",
      "name": "python",
      "nbconvert_exporter": "python",
      "pygments_lexer": "ipython3",
      "version": "3.10.11"
    }
  },
  "nbformat": 4,
  "nbformat_minor": 0
}
